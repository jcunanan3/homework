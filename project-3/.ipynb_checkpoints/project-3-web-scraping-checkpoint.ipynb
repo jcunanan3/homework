{
 "cells": [
  {
   "cell_type": "markdown",
   "metadata": {},
   "source": [
    "# Project 3:  Web Scraping\n",
    "### Finding Underpriced RVs on Craigslist\n",
    "\n",
    "![](https://snag.gy/WrdUMx.jpg)"
   ]
  },
  {
   "cell_type": "markdown",
   "metadata": {},
   "source": [
    "In this project we will be practicing our web scraping skills.  You can use Scrapy or Python requests in order to complete this project.  It may be helpful to write some prototype code in this notebook to test your assumptions, then move it into a Python file that can be run from the command line.\n",
    "\n",
    "> In order to run code from the command line, instead of the notebook, you just need to save your code to a file (with a .py extension), and run it using the Python interpreter:<br><br>\n",
    "> `python my_file.py`\n",
    "\n",
    "You will be building a process to scrape a single category of search results on Craigslist, that can easily be applied to other categories by changing the search terms.  The main goal is to be able to target and scrape a single page given a set of parameters.\n",
    "\n",
    "**If you use Scrapy, provide your code in a folder.**"
   ]
  },
  {
   "cell_type": "markdown",
   "metadata": {},
   "source": [
    "## Import your libraries for scrapy / requests / pandas / numpy / etc\n",
    "Setup whichever libraries you need. Review past material for reference."
   ]
  },
  {
   "cell_type": "code",
   "execution_count": 3,
   "metadata": {
    "collapsed": true
   },
   "outputs": [],
   "source": [
    "import scrapy\n",
    "\n",
    "\n",
    "class CityItem(scrapy.Item):\n",
    "    city_name=scrapy.Field()\n",
    "    \n",
    "    # define the fields for your item here like:\n",
    "    # name = scrapy.Field()\n",
    "    pass\n",
    "\n",
    "from bs4 import BeautifulSoup as bs\n",
    "\n",
    "\n",
    "class CityBaseSpider(scrapy.Spider):\n",
    "        name = \"CityBase\"\n",
    "        start_urls = ['https://en.wikipedia.org/wiki/List_of_United_States_cities_by_population']\n",
    "\n",
    "        def parse(self,response):\n",
    "            #/'//span[@class=\"company\"]/span'\n",
    "            #//h2/a/@title'\n",
    "            names = response.xpath('//tbody/tr/td[2]/i/a').extract()\n",
    "#             links = response.xpath('//h2/a/@href').extract()\n",
    "#             companies = response.xpath('//span[@class=\"company\"]/span').extract()\n",
    "\n",
    "            for n in names:\n",
    "                item = CityItem()\n",
    "                item['city_name'] = n\n",
    "#                 item['link'] = link\n",
    "#                 item['company'] = bs(company).get_text().strip()\n",
    "                yield item"
   ]
  },
  {
   "cell_type": "markdown",
   "metadata": {},
   "source": [
    "\n",
    "\n",
    "## 1.  Scrape for the largest US cities (non-exhaustive list)\n",
    "Search, research, and scrape Wikipedia for a list of the largest US cities.  There are a few sources but find one that is in a nice table.  We don't want all cities, just signifficant cities.  Examine your source.  Look for what can be differentiable.\n",
    "\n",
    "- Use requests\n",
    "- Build XPath query(ies)\n",
    "- Extract to a list\n",
    "- Clean your list"
   ]
  },
  {
   "cell_type": "code",
   "execution_count": 2,
   "metadata": {
    "collapsed": false
   },
   "outputs": [],
   "source": [
    "\n",
    "from scrapy.selector import Selector\n",
    "from scrapy.http import HtmlResponse\n",
    "import requests\n",
    "\n",
    "response = requests.get(\"https://en.wikipedia.org/wiki/List_of_United_States_cities_by_population\")\n",
    "HTML = response.text  \n"
   ]
  },
  {
   "cell_type": "code",
   "execution_count": 3,
   "metadata": {
    "collapsed": false
   },
   "outputs": [],
   "source": [
    "cities=Selector(text=HTML).xpath('//td[2]/i/a/text()').extract()\n"
   ]
  },
  {
   "cell_type": "markdown",
   "metadata": {},
   "source": [
    "## 1.2 Only retain cities with properly formed ASCII\n",
    "\n",
    "Optionally, filter out any cities with impropper ASCII characters.  A smaller list will be easier to look at.  However you may not need to filter these if you spend more time scraping a more concise city list.  This list should help you narrow down the list of regional Craigslist sites."
   ]
  },
  {
   "cell_type": "code",
   "execution_count": 4,
   "metadata": {
    "collapsed": false
   },
   "outputs": [
    {
     "name": "stdout",
     "output_type": "stream",
     "text": [
      "['New York', 'Los Angeles', 'Chicago', 'Houston', 'Philadelphia', 'Jacksonville', 'Charlotte', 'Seattle', 'Detroit', 'Portland', 'Las Vegas', 'Louisville', 'Baltimore', 'Milwaukee', 'Albuquerque', 'Kansas City', 'Virginia Beach', 'Omaha', 'Minneapolis', 'New Orleans', 'Wichita', 'Anchorage', 'Newark', 'Birmingham', 'Sioux Falls', 'Bridgeport', 'Charleston', 'Fargo', 'Manchester', 'Billings']\n"
     ]
    }
   ],
   "source": [
    "cities = [str(r) for r in cities]\n",
    "print(cities)"
   ]
  },
  {
   "cell_type": "code",
   "execution_count": null,
   "metadata": {
    "collapsed": true
   },
   "outputs": [],
   "source": []
  },
  {
   "cell_type": "code",
   "execution_count": 2,
   "metadata": {
    "collapsed": true
   },
   "outputs": [],
   "source": [
    "# ONLY RETAIN PROPERLY FORMED CITIES WITH FILTERING FUNCTION\n"
   ]
  },
  {
   "cell_type": "markdown",
   "metadata": {},
   "source": [
    "## 2.  Write a function to capture current pricing information via Craigslist in one city.\n",
    "Choose a city from your scraped data, then go to the cooresponding city section on Craigslist, searching for \"rv\" in the auto section.  Write a method that pulls out the prices."
   ]
  },
  {
   "cell_type": "code",
   "execution_count": 5,
   "metadata": {
    "collapsed": false
   },
   "outputs": [
    {
     "data": {
      "text/plain": [
       "[u'2014 Pacific Coachworks Powerlite 27FBXL',\n",
       " u'2016 Jayco Bh184  Baja trailer for Rent sleeps 4',\n",
       " u'Rare Nissan Okanagan Campervan 1984 - 93000 km (Vancouver)',\n",
       " u'1998 Trail Manor Trailer',\n",
       " u'Fleetwood RV',\n",
       " u'1997 Lance Camper 990',\n",
       " u'1990 Lance Camper',\n",
       " u'1997 Rexhall Aerobus',\n",
       " u\"2014 Thor Motor Coach Siesta Sprinter Class C 24'\",\n",
       " u'Seeking an RV with Many Conveniences and Comforts? See this Dodge Road',\n",
       " u'1994 Fleetwood Flair RV For Sale',\n",
       " u'2004 Tiffin Phaeton Class A Motorhome Diesel Pusher low Miles',\n",
       " u'2002 jamboree fleetwood 31 ft Class c',\n",
       " u'Fleetwood RV Queen Bed',\n",
       " u\"'99 Wilderness Northwest with Automatic Tranny and Rearview Camera\",\n",
       " u\"Immaculate Renovated 40' class A Newmar Mountain Aire RV.\",\n",
       " u'Your Whole Family Can Enjoy The 1999 Wilderness Northwest',\n",
       " u'5th wheel trailer hitch',\n",
       " u\"2010 Livin' Lite 8.0  ultra-lite pop-up tent trailer.\",\n",
       " u'2005 JAMBOREE GT 295',\n",
       " u\"'92 RV Allegro Bay - letting it go\",\n",
       " u'ROADTREK  RANGER RT  CLASS B MOTORHOME   santa maria',\n",
       " u'Itasca Spirit - Low Miles, Warranty, Major Upgrades',\n",
       " u'1963 Airstream Safari',\n",
       " u'Renovated Airstream',\n",
       " u'2005 camper Outfitter Apex 8',\n",
       " u'Your Family Will Enjoy This 2003 Dodge Roadtrek 190 Popular in Like Ne',\n",
       " u'Rockwood XL',\n",
       " u'2002 Lance 1121 Camper with Slide Out 11\\'6\" generator dry bath, Clean!',\n",
       " u'1996 Fleetwood Bounder 30 Foot Motorhome RV',\n",
       " u'BURNING MAN TRAILER FOR RENT',\n",
       " u'Fleetwood Yuma Popup Trailer 2008',\n",
       " u'(New Price) 1980s Coleman Redwood Seven Pop Up Tent Trailer',\n",
       " u'Rexhal',\n",
       " u'2017 *PACIFIC* *COACHWORKS* *NORTHLAND* 16RB Travel Trailer',\n",
       " u'Blue Ox Autostop RV tow car brake system-New, never used',\n",
       " u'Wanted pop up or travel trailer for camping \\u26fa\\ufe0f',\n",
       " u\"2012 Forest River Salem 27' T27RBS\",\n",
       " u'2005 WildCat Fifth-wheel',\n",
       " u'RV PULL BEHIND TRAILER',\n",
       " u'2004 Monaco Dynasty',\n",
       " u'Hitch box extension and reducer',\n",
       " u'82 international motor home conversion',\n",
       " u'Coachmen Pop-Up Tent Trailer',\n",
       " u'RV for rent, sleeps six! Class A, Wii entertainment system, 32\"HDTV -',\n",
       " u'2010 Fleetwood Discovery 40X Triple-slide Class A Diesel Motorhome',\n",
       " u'2018 Forest River FR3 32DS Double-slide Bunkhouse ClassA Gas Motorhome',\n",
       " u'travel trailer/motorhome  wanted 14-28ft (to buy)',\n",
       " u'2009 Keystone RV Cougar 243RKS Travel Trailer Western Edition',\n",
       " u\"2016 23' Jayco Redhawk Motorhome\",\n",
       " u'1972 Ford Shasta, Class B RV, 18ft long',\n",
       " u'2014 Motor Home Dingy MINI Clubmen',\n",
       " u'2005 Keystone Everest 294L 32ft Excellent Condition',\n",
       " u'Highlander 1/4 Cab Camper',\n",
       " u'Bunkhouse travel trailer 24TBSS',\n",
       " u'RV Sink, faucet, and P-trap',\n",
       " u'Wanted Pop~Up Or Travel Trailer',\n",
       " u'2018 *HEARTLAND* *PIONEER* 276 Fifth-Wheel',\n",
       " u'2015 Lance 995 slide in truck camper',\n",
       " u'class c motor home',\n",
       " u'Fifth 5th Wheel Towing Slider Hitch Tow RV Travel Trailer Made in USA',\n",
       " u\"2003 Coleman Cheyenne Popup Tent Trailer Sleep's 8\",\n",
       " u'2017 Keystone Springdale 240',\n",
       " u'Wanted pop up or travel trailer for camping \\u26fa\\ufe0f',\n",
       " u'1975 FMC 2900R',\n",
       " u'New White Exterior Shower Kit',\n",
       " u'1965 Vintage Aristocat Lo Liner NEW 2018 tags NEW tires!',\n",
       " u'2017 KEYSTONE HIDEOUT 31BHDS - BUNK BEDS',\n",
       " u'2015 ROCKWOOD FREEDOM 1640LTD - TENT TRAILER',\n",
       " u'Teardrop RV Rental-Sparkling Clean & Stylish',\n",
       " u'2017 THOR ACE MOTOR COACH  29.2 - CLASS A',\n",
       " u'2011 Eclipse Attitude 18FKG Travel Trailer Toy Hauler',\n",
       " u'River Flagstaff Microlite',\n",
       " u'1996 sierra 27ft 5th wheel sleeps 6',\n",
       " u'Towing.......Trailor....Mobile-homes...GOOSE/NECK/BAR---PHOTO',\n",
       " u'2002 Fun Runner Toy Hauler',\n",
       " u'RV and tire cover',\n",
       " u'Towing.......Trailor....Mobile-homes...GOOOSE..NECK..BAR....PHOTO',\n",
       " u'2002 ITASCA SUNCRUISER',\n",
       " u'1987 Winnebago Chieftain',\n",
       " u'Fifth wheel camper',\n",
       " u'1984 Chevy RV - 1 owner - all documents',\n",
       " u'Beautiful 2012 Fleetwood Bounder Classic - 35 K',\n",
       " u'2007 outback   Bunkhouse',\n",
       " u\"Safari Trek 25' class A, NEW DIESEL MOTOR\",\n",
       " u'2017 *COLEMAN* *COLEMAN* CTS202RDWE Travel Trailer',\n",
       " u'RV 5th wheel towing and boat moving',\n",
       " u'Unfinished TearDrop Trailer',\n",
       " u'yamaha EF 3000 ISEB genorater',\n",
       " u'yamaha EF 3000 ISEB genorater',\n",
       " u'2006 FleetWood Sun Valley-Tent Trailer',\n",
       " u'Vintage Classic 1980  Revcon Motorhome',\n",
       " u'1991 Ford Tioga RV Motorhome',\n",
       " u'1998 Coachmen Santara RV',\n",
       " u'1974(smog exempt) dodge sportsman',\n",
       " u'Rieco 2000lb Capacity Hydraulic Camper Jacks',\n",
       " u'INTELL POWER 9100',\n",
       " u'1991 Ford Tioga RV Motorhome',\n",
       " u'2006 Super nice Ezgo golf, very nice',\n",
       " u'1992 Toyota Winnebago warrior 21ft 52k miles',\n",
       " u'Needs to go ASAP',\n",
       " u\"2005 sandpiper 28' toy hauler\",\n",
       " u'2016 Forest River Stealth Toy Hauler WA2916G',\n",
       " u'Jamboree Ralyee  Sell/Trade',\n",
       " u'2006 ALLEGRO BUS  (4 slides) $137500',\n",
       " u'Beautiful Aliner Expedition for sale - go camping this summer!',\n",
       " u\"2001 komfort 27' 5th wheel\",\n",
       " u'2003 Winnebago RV',\n",
       " u\"2014 Wildwood XLite 28' Bunkhouse Travel Trailer\",\n",
       " u'2000 Fleetwood cabover camper w/generator',\n",
       " u'4th JULY PISMO BEACH OCENANO DUNES  reservation',\n",
       " u'2017 Keystone Bullet Premier 30REPR',\n",
       " u'2004 Winnebago Minnie 24ft with slide out  .',\n",
       " u'4th JULY PISMO BEACH OCENANO DUNES  reservation',\n",
       " u'2009 Trailmanor 3023, like new',\n",
       " u'2014 Rushmore 5th wheel (40ft)',\n",
       " u'travel trailer for rent',\n",
       " u'2017 *FOREST* *RIVER* *CEDAR* *CREEK* 38EL Fifth-Wheel',\n",
       " u'1999 Allegro Motor Home  With Extras',\n",
       " u'1982 Pace Arrow']"
      ]
     },
     "execution_count": 5,
     "metadata": {},
     "output_type": "execute_result"
    }
   ],
   "source": [
    "response = requests.get(\"https://sfbay.craigslist.org/search/rva\")\n",
    "HTML_rv = response.text \n",
    "rvs=Selector(text=HTML_rv).xpath('//ul/li/p/a/text()').extract()\n",
    "rvs\n"
   ]
  },
  {
   "cell_type": "code",
   "execution_count": 6,
   "metadata": {
    "collapsed": false
   },
   "outputs": [
    {
     "name": "stdout",
     "output_type": "stream",
     "text": [
      "['2014 Pacific Coachworks Powerlite 27FBXL', '2016 Jayco Bh184  Baja trailer for Rent sleeps 4', 'Rare Nissan Okanagan Campervan 1984 - 93000 km (Vancouver)', '1998 Trail Manor Trailer', 'Fleetwood RV', '1997 Lance Camper 990', '1990 Lance Camper', '1997 Rexhall Aerobus', \"2014 Thor Motor Coach Siesta Sprinter Class C 24'\", 'Seeking an RV with Many Conveniences and Comforts? See this Dodge Road', '1994 Fleetwood Flair RV For Sale', '2004 Tiffin Phaeton Class A Motorhome Diesel Pusher low Miles', '2002 jamboree fleetwood 31 ft Class c', 'Fleetwood RV Queen Bed', \"'99 Wilderness Northwest with Automatic Tranny and Rearview Camera\", \"Immaculate Renovated 40' class A Newmar Mountain Aire RV.\", 'Your Whole Family Can Enjoy The 1999 Wilderness Northwest', '5th wheel trailer hitch', \"2010 Livin' Lite 8.0  ultra-lite pop-up tent trailer.\", '2005 JAMBOREE GT 295', \"'92 RV Allegro Bay - letting it go\", 'ROADTREK  RANGER RT  CLASS B MOTORHOME   santa maria', 'Itasca Spirit - Low Miles, Warranty, Major Upgrades', '1963 Airstream Safari', 'Renovated Airstream', '2005 camper Outfitter Apex 8', 'Your Family Will Enjoy This 2003 Dodge Roadtrek 190 Popular in Like Ne', 'Rockwood XL', '2002 Lance 1121 Camper with Slide Out 11\\'6\" generator dry bath, Clean!', '1996 Fleetwood Bounder 30 Foot Motorhome RV', 'BURNING MAN TRAILER FOR RENT', 'Fleetwood Yuma Popup Trailer 2008', '(New Price) 1980s Coleman Redwood Seven Pop Up Tent Trailer', 'Rexhal', '2017 *PACIFIC* *COACHWORKS* *NORTHLAND* 16RB Travel Trailer', 'Blue Ox Autostop RV tow car brake system-New, never used', 'Wanted pop up or travel trailer for camping \\xe2\\x9b\\xba\\xef\\xb8\\x8f', \"2012 Forest River Salem 27' T27RBS\", '2005 WildCat Fifth-wheel', 'RV PULL BEHIND TRAILER', '2004 Monaco Dynasty', 'Hitch box extension and reducer', '82 international motor home conversion', 'Coachmen Pop-Up Tent Trailer', 'RV for rent, sleeps six! Class A, Wii entertainment system, 32\"HDTV -', '2010 Fleetwood Discovery 40X Triple-slide Class A Diesel Motorhome', '2018 Forest River FR3 32DS Double-slide Bunkhouse ClassA Gas Motorhome', 'travel trailer/motorhome  wanted 14-28ft (to buy)', '2009 Keystone RV Cougar 243RKS Travel Trailer Western Edition', \"2016 23' Jayco Redhawk Motorhome\", '1972 Ford Shasta, Class B RV, 18ft long', '2014 Motor Home Dingy MINI Clubmen', '2005 Keystone Everest 294L 32ft Excellent Condition', 'Highlander 1/4 Cab Camper', 'Bunkhouse travel trailer 24TBSS', 'RV Sink, faucet, and P-trap', 'Wanted Pop~Up Or Travel Trailer', '2018 *HEARTLAND* *PIONEER* 276 Fifth-Wheel', '2015 Lance 995 slide in truck camper', 'class c motor home', 'Fifth 5th Wheel Towing Slider Hitch Tow RV Travel Trailer Made in USA', \"2003 Coleman Cheyenne Popup Tent Trailer Sleep's 8\", '2017 Keystone Springdale 240', 'Wanted pop up or travel trailer for camping \\xe2\\x9b\\xba\\xef\\xb8\\x8f', '1975 FMC 2900R', 'New White Exterior Shower Kit', '1965 Vintage Aristocat Lo Liner NEW 2018 tags NEW tires!', '2017 KEYSTONE HIDEOUT 31BHDS - BUNK BEDS', '2015 ROCKWOOD FREEDOM 1640LTD - TENT TRAILER', 'Teardrop RV Rental-Sparkling Clean & Stylish', '2017 THOR ACE MOTOR COACH  29.2 - CLASS A', '2011 Eclipse Attitude 18FKG Travel Trailer Toy Hauler', 'River Flagstaff Microlite', '1996 sierra 27ft 5th wheel sleeps 6', 'Towing.......Trailor....Mobile-homes...GOOSE/NECK/BAR---PHOTO', '2002 Fun Runner Toy Hauler', 'RV and tire cover', 'Towing.......Trailor....Mobile-homes...GOOOSE..NECK..BAR....PHOTO', '2002 ITASCA SUNCRUISER', '1987 Winnebago Chieftain', 'Fifth wheel camper', '1984 Chevy RV - 1 owner - all documents', 'Beautiful 2012 Fleetwood Bounder Classic - 35 K', '2007 outback   Bunkhouse', \"Safari Trek 25' class A, NEW DIESEL MOTOR\", '2017 *COLEMAN* *COLEMAN* CTS202RDWE Travel Trailer', 'RV 5th wheel towing and boat moving', 'Unfinished TearDrop Trailer', 'yamaha EF 3000 ISEB genorater', 'yamaha EF 3000 ISEB genorater', '2006 FleetWood Sun Valley-Tent Trailer', 'Vintage Classic 1980  Revcon Motorhome', '1991 Ford Tioga RV Motorhome', '1998 Coachmen Santara RV', '1974(smog exempt) dodge sportsman', 'Rieco 2000lb Capacity Hydraulic Camper Jacks', 'INTELL POWER 9100', '1991 Ford Tioga RV Motorhome', '2006 Super nice Ezgo golf, very nice', '1992 Toyota Winnebago warrior 21ft 52k miles', 'Needs to go ASAP', \"2005 sandpiper 28' toy hauler\", '2016 Forest River Stealth Toy Hauler WA2916G', 'Jamboree Ralyee  Sell/Trade', '2006 ALLEGRO BUS  (4 slides) $137500', 'Beautiful Aliner Expedition for sale - go camping this summer!', \"2001 komfort 27' 5th wheel\", '2003 Winnebago RV', \"2014 Wildwood XLite 28' Bunkhouse Travel Trailer\", '2000 Fleetwood cabover camper w/generator', '4th JULY PISMO BEACH OCENANO DUNES  reservation', '2017 Keystone Bullet Premier 30REPR', '2004 Winnebago Minnie 24ft with slide out  .', '4th JULY PISMO BEACH OCENANO DUNES  reservation', '2009 Trailmanor 3023, like new', '2014 Rushmore 5th wheel (40ft)', 'travel trailer for rent', '2017 *FOREST* *RIVER* *CEDAR* *CREEK* 38EL Fifth-Wheel', '1999 Allegro Motor Home  With Extras', '1982 Pace Arrow']\n"
     ]
    }
   ],
   "source": [
    "rvs = [r.encode('utf-8') for r in rvs]\n",
    "print(rvs)"
   ]
  },
  {
   "cell_type": "code",
   "execution_count": 9,
   "metadata": {
    "collapsed": false
   },
   "outputs": [
    {
     "ename": "UnicodeDecodeError",
     "evalue": "'ascii' codec can't decode byte 0xe2 in position 44: ordinal not in range(128)",
     "output_type": "error",
     "traceback": [
      "\u001b[0;31m---------------------------------------------------------------------------\u001b[0m",
      "\u001b[0;31mUnicodeDecodeError\u001b[0m                        Traceback (most recent call last)",
      "\u001b[0;32m<ipython-input-9-258f25dc3fcf>\u001b[0m in \u001b[0;36m<module>\u001b[0;34m()\u001b[0m\n\u001b[1;32m      3\u001b[0m \u001b[0mrv_price\u001b[0m\u001b[0;34m=\u001b[0m\u001b[0mSelector\u001b[0m\u001b[0;34m(\u001b[0m\u001b[0mtext\u001b[0m\u001b[0;34m=\u001b[0m\u001b[0mHTML_rv\u001b[0m\u001b[0;34m)\u001b[0m\u001b[0;34m.\u001b[0m\u001b[0mxpath\u001b[0m\u001b[0;34m(\u001b[0m\u001b[0;34m'//p[@class=\"result-info\"]/span[@class=\"result-meta\"]/span[@class=\"result-price\"]/text()'\u001b[0m\u001b[0;34m)\u001b[0m\u001b[0;34m.\u001b[0m\u001b[0mextract\u001b[0m\u001b[0;34m(\u001b[0m\u001b[0;34m)\u001b[0m\u001b[0;34m\u001b[0m\u001b[0m\n\u001b[1;32m      4\u001b[0m \u001b[0;34m\u001b[0m\u001b[0m\n\u001b[0;32m----> 5\u001b[0;31m \u001b[0mrvs\u001b[0m \u001b[0;34m=\u001b[0m \u001b[0;34m[\u001b[0m\u001b[0mr\u001b[0m\u001b[0;34m.\u001b[0m\u001b[0mencode\u001b[0m\u001b[0;34m(\u001b[0m\u001b[0;34m'utf-8'\u001b[0m\u001b[0;34m)\u001b[0m\u001b[0;34m.\u001b[0m\u001b[0mstrip\u001b[0m\u001b[0;34m(\u001b[0m\u001b[0;34m)\u001b[0m \u001b[0;32mfor\u001b[0m \u001b[0mr\u001b[0m \u001b[0;32min\u001b[0m \u001b[0mrvs\u001b[0m\u001b[0;34m]\u001b[0m\u001b[0;34m\u001b[0m\u001b[0m\n\u001b[0m\u001b[1;32m      6\u001b[0m \u001b[0;32mprint\u001b[0m\u001b[0;34m(\u001b[0m\u001b[0mrvs\u001b[0m\u001b[0;34m)\u001b[0m\u001b[0;34m\u001b[0m\u001b[0m\n",
      "\u001b[0;31mUnicodeDecodeError\u001b[0m: 'ascii' codec can't decode byte 0xe2 in position 44: ordinal not in range(128)"
     ]
    }
   ],
   "source": [
    "response = requests.get(\"https://sfbay.craigslist.org/search/rva\")\n",
    "HTML_price = response.text \n",
    "rv_price=Selector(text=HTML_rv).xpath('//p[@class=\"result-info\"]/span[@class=\"result-meta\"]/span[@class=\"result-price\"]/text()').extract()\n",
    "\n"
   ]
  },
  {
   "cell_type": "code",
   "execution_count": 10,
   "metadata": {
    "collapsed": false
   },
   "outputs": [
    {
     "name": "stdout",
     "output_type": "stream",
     "text": [
      "['$30000', '$120', '$6500', '$7000', '$26000', '$7000', '$2000', '$11500', '$65000', '$27850', '$9750', '$71000', '$23500', '$40', '$27000', '$29500', '$28600', '$250', '$4500', '$39500', '$8000', '$53000', '$28999', '$6500', '$75000', '$10500', '$27650', '$1000', '$11995', '$11800', '$350', '$5500', '$600', '$18000', '$150', '$13500', '$12000', '$3500', '$72000', '$135', '$25000', '$2500', '$209', '$123900', '$89900', '$5000', '$12995', '$80000', '$4800', '$14500', '$16000', '$1250', '$15000', '$35', '$32500', '$22000', '$350', '$3500', '$19500', '$40000', '$4950', '$29999', '$9900', '$65', '$77900', '$13500', '$2500', '$4750', '$300', '$7800', '$200', '$300', '$24950', '$5500', '$4800', '$8900', '$125000', '$9200', '$22000', '$250', '$1595', '$1425', '$1425', '$6000', '$16500', '$9995', '$18000', '$1400', '$100', '$100', '$9995', '$1000', '$8900', '$1000', '$9500', '$37500', '$5600', '$137500', '$17500', '$9500', '$14000', '$11950', '$200', '$32000', '$26900', '$200', '$13475', '$59900', '$90', '$16500', '$2500']\n"
     ]
    }
   ],
   "source": [
    "rvs = [r.encode('utf-8') for r in rv_price]\n",
    "print(rvs)"
   ]
  },
  {
   "cell_type": "markdown",
   "metadata": {},
   "source": [
    "\n",
    "## 2.1 Create a mapping of cities to cooresponding regional Craigslist URLs\n",
    "\n",
    "Major US cities on Craigslist typically have their own cooresponding section (ie: SFBay Area, NYC, Boston, Miami, Seattle, etc).  Later, you will use these to query search results for various metropolitian regions listed on Craigslist.  Between the major metropolitan Craigslist sites, the only thing that will differ is the URL's that correspond to them.\n",
    "\n",
    "The point of the \"mapping\":  Create a data structure that allows you to iterate with both the name of the city from Wikipedia, with the cooresponding variable that that will allow you to construct each craigslist URL for each region.\n",
    "\n",
    "> For San Francsico (the Bay Area metropolitan area), the url for the RV search result is:\n",
    "> http://sfbay.craigslist.org/search/sss?query=rv\n",
    ">\n",
    "> The convention is http://[region].craigslist.org/search/sss?query=rf\n",
    "> Replacing [region] with the cooresponding city name will allow you to quickly iterate through each regional Craigslist site, and scrape the prices from the search results.  Keep this in mind while you build this \"mapping\".\n"
   ]
  },
  {
   "cell_type": "code",
   "execution_count": 16,
   "metadata": {
    "collapsed": false
   },
   "outputs": [
    {
     "data": {
      "text/plain": [
       "['New York',\n",
       " 'Los Angeles',\n",
       " 'Chicago',\n",
       " 'Houston',\n",
       " 'Philadelphia',\n",
       " 'Jacksonville',\n",
       " 'Charlotte',\n",
       " 'Seattle',\n",
       " 'Detroit',\n",
       " 'Portland',\n",
       " 'Las Vegas',\n",
       " 'Louisville',\n",
       " 'Baltimore',\n",
       " 'Milwaukee',\n",
       " 'Albuquerque',\n",
       " 'Kansas City',\n",
       " 'Virginia Beach',\n",
       " 'Omaha',\n",
       " 'Minneapolis',\n",
       " 'New Orleans',\n",
       " 'Wichita',\n",
       " 'Anchorage',\n",
       " 'Newark',\n",
       " 'Birmingham',\n",
       " 'Sioux Falls',\n",
       " 'Bridgeport',\n",
       " 'Charleston',\n",
       " 'Fargo',\n",
       " 'Manchester',\n",
       " 'Billings']"
      ]
     },
     "execution_count": 16,
     "metadata": {},
     "output_type": "execute_result"
    }
   ],
   "source": [
    "cities_dict={'Chicago':'chicago','Los Angeles':'los angeles','New York':'newyork','Houston': 'houston'}\n",
    "['New York', 'Los Angeles', 'Chicago', 'Houston', 'Philadelphia', 'Jacksonville', 'Charlotte', 'Seattle', 'Detroit', 'Portland', 'Las Vegas', 'Louisville', 'Baltimore', 'Milwaukee', 'Albuquerque', 'Kansas City', 'Virginia Beach', 'Omaha', 'Minneapolis', 'New Orleans', 'Wichita', 'Anchorage', 'Newark', 'Birmingham', 'Sioux Falls', 'Bridgeport', 'Charleston', 'Fargo', 'Manchester', 'Billings']"
   ]
  },
  {
   "cell_type": "code",
   "execution_count": 17,
   "metadata": {
    "collapsed": false
   },
   "outputs": [
    {
     "data": {
      "text/plain": [
       "{'Albuquerque': 'https://albuquerque.craigslist.org/search/rva?min_price=10',\n",
       " 'Anchorage': 'https://anchorage.craigslist.org/search/rva?min_price=10',\n",
       " 'Baltimore': 'https://baltimore.craigslist.org/search/rva?min_price=10',\n",
       " 'Billings': 'https://billings.craigslist.org/search/rva?min_price=10',\n",
       " 'Birmingham': 'https://birmingham.craigslist.org/search/rva?min_price=10',\n",
       " 'Bridgeport': 'https://bridgeport.craigslist.org/search/rva?min_price=10',\n",
       " 'Charleston': 'https://charleston.craigslist.org/search/rva?min_price=10',\n",
       " 'Charlotte': 'https://charlotte.craigslist.org/search/rva?min_price=10',\n",
       " 'Chicago': 'https://chicago.craigslist.org/search/rva?min_price=10',\n",
       " 'Detroit': 'https://detroit.craigslist.org/search/rva?min_price=10',\n",
       " 'Fargo': 'https://fargo.craigslist.org/search/rva?min_price=10',\n",
       " 'Houston': 'https://houston.craigslist.org/search/rva?min_price=10',\n",
       " 'Jacksonville': 'https://jacksonville.craigslist.org/search/rva?min_price=10',\n",
       " 'KansasCity': 'https://kansascity.craigslist.org/search/rva?min_price=10',\n",
       " 'LasVegas': 'https://lasvegas.craigslist.org/search/rva?min_price=10',\n",
       " 'LosAngeles': 'https://losangeles.craigslist.org/search/rva?min_price=10',\n",
       " 'Louisville': 'https://louisville.craigslist.org/search/rva?min_price=10',\n",
       " 'Manchester': 'https://manchester.craigslist.org/search/rva?min_price=10',\n",
       " 'Milwaukee': 'https://milwaukee.craigslist.org/search/rva?min_price=10',\n",
       " 'Minneapolis': 'https://minneapolis.craigslist.org/search/rva?min_price=10',\n",
       " 'NewOrleans': 'https://neworleans.craigslist.org/search/rva?min_price=10',\n",
       " 'NewYork': 'https://newyork.craigslist.org/search/rva?min_price=10',\n",
       " 'Newark': 'https://newark.craigslist.org/search/rva?min_price=10',\n",
       " 'Omaha': 'https://omaha.craigslist.org/search/rva?min_price=10',\n",
       " 'Philadelphia': 'https://philadelphia.craigslist.org/search/rva?min_price=10',\n",
       " 'Portland': 'https://portland.craigslist.org/search/rva?min_price=10',\n",
       " 'Seattle': 'https://seattle.craigslist.org/search/rva?min_price=10',\n",
       " 'SiouxFalls': 'https://siouxfalls.craigslist.org/search/rva?min_price=10',\n",
       " 'VirginiaBeach': 'https://virginiabeach.craigslist.org/search/rva?min_price=10',\n",
       " 'Wichita': 'https://wichita.craigslist.org/search/rva?min_price=10'}"
      ]
     },
     "execution_count": 17,
     "metadata": {},
     "output_type": "execute_result"
    }
   ],
   "source": [
    "cities2=[c.replace(' ','') for c in cities]\n",
    "cities2\n",
    "cities_path={}\n",
    "for c in cities2:\n",
    "    d=c.lower()\n",
    "    cities_path[c]='https://'+d+'.craigslist.org/search/rva?min_price=10'\n",
    "cities_path"
   ]
  },
  {
   "cell_type": "code",
   "execution_count": 18,
   "metadata": {
    "collapsed": false
   },
   "outputs": [],
   "source": [
    "#had to amend these exceptions manually. E.g., 'Newark'<>'newjersey' and there is no newark.craigslist.org\n",
    "\n",
    "cities_path['Newark']='https://newjersey.craigslist.org/search/rva?min_price=10'\n",
    "cities_path['VirginiaBeach']='https://norfolk.craigslist.org/search/rva?min_price=10'\n",
    "cities_path['Bridgeport']='https://newlondon.craigslist.org/search/rva?min_price=10'"
   ]
  },
  {
   "cell_type": "markdown",
   "metadata": {},
   "source": [
    "\n",
    "## 3. Define a function to caculate mean and median price per city.\n",
    "\n",
    "Now that you've created a list of cities you want to scrape, adapt your solution for grabbing data in one region site, to grab data for all regional sites that you collected, then calculate the mean and median price of RV results from each city.\n",
    "\n",
    "> Look at the URLs from a few different regions (ie: portland, phoenix, sfbay), and find what they have in common.  Determine the area in the URL string that needs to change the least, and figure out how to replace only that portion of the URL in order to iterate through each city."
   ]
  },
  {
   "cell_type": "code",
   "execution_count": 41,
   "metadata": {
    "collapsed": false,
    "scrolled": true
   },
   "outputs": [],
   "source": [
    "rv_price={}\n",
    "\n",
    "for k in cities_path:\n",
    "\n",
    "    response = requests.get(cities_path[k])\n",
    "    HTML_price = response.text\n",
    "    \n",
    "    x=Selector(text=HTML_price).xpath('//p[@class=\"result-info\"]/span[@class=\"result-meta\"]/span[@class=\"result-price\"]/text()').extract()\n",
    "    if len(x)>2:\n",
    "        rv_price[k]=x\n"
   ]
  },
  {
   "cell_type": "code",
   "execution_count": 42,
   "metadata": {
    "collapsed": false
   },
   "outputs": [],
   "source": [
    "for k in rv_price:\n",
    "    \n",
    "        \n",
    "    rv_price[k] = [r.encode('utf-8') for r in rv_price[k]]\n",
    "    rv_price[k] = [r.replace('$','') for r in rv_price[k]]\n",
    "    rv_price[k]=[int(r) for r in rv_price[k] ]\n",
    "\n",
    "    "
   ]
  },
  {
   "cell_type": "code",
   "execution_count": 43,
   "metadata": {
    "collapsed": false
   },
   "outputs": [],
   "source": [
    "for k in rv_price:\n",
    "    for j in rv_price[k]:\n",
    "        if type(j)!=int:\n",
    "            \n",
    "            if '/' in j: #had to handle some escape characters\n",
    "                print(k,j)"
   ]
  },
  {
   "cell_type": "code",
   "execution_count": 44,
   "metadata": {
    "collapsed": false
   },
   "outputs": [
    {
     "name": "stdout",
     "output_type": "stream",
     "text": [
      "('Chicago', [42000, 2050, 700, 650, 2000, 36500, 4950, 5900, 3100, 18900, 20, 9900, 6900, 19900, 7250, 7250, 7250, 7250, 7250, 7250, 7250, 40000, 3000, 2900, 15600, 28000, 24750, 38600, 3500, 8000, 3050, 8000, 22000, 22000, 3200, 1600, 1600, 59500, 395, 19996, 19500, 6000, 6900, 59, 2000, 18500, 18500, 395, 5500, 36000, 20500, 4600, 8700, 375, 9999, 395, 395, 3200, 6900, 30995, 54999, 14600, 10700, 3900, 74500, 1500, 15987, 20000, 18000, 18000, 10000, 5999, 75, 18000, 14999, 350, 75, 17500, 75, 65, 60, 19999, 85000, 34900, 85000, 6000, 75, 4000, 18500, 12500, 8000, 32995, 29995, 3428, 4000, 36900, 950, 3750, 7500, 23500, 3595, 25000, 16900, 130000, 3000, 11600, 9500, 49000, 35000, 55000, 10500, 16500, 35000, 10900, 14995, 7250, 16500, 89990, 2950, 53900])\n",
      "('NewYork', [2500, 1999, 2500, 2000, 2700, 1000, 24500, 4800, 2500, 85999, 6000, 17000, 16000, 20000, 24000, 85999, 10000, 16499, 16499, 16499, 16499, 16499, 11000, 2015, 2000, 10000, 35550, 1999, 1600, 4000, 34900, 1950, 2030, 10299, 12500, 4900, 6950, 7500, 7500, 7500, 7500, 70, 2032, 2001, 6000, 3018, 21500, 6500, 2200, 650, 166000, 16500, 30000, 7900, 18500, 10200, 25, 2000, 2072, 63000, 63000, 4500, 3018, 2100, 200, 166000, 16000, 96497, 9000, 9000, 9000, 17000, 17000, 1495, 15900, 4000, 3000, 25500, 25500, 2000, 34500, 8500, 12500, 500, 4000, 400, 4000, 34995, 34995, 13000, 16900, 16900, 150, 7500, 2499, 2499, 600, 39000, 1200, 166000, 5000, 250, 2500, 15900, 13755, 67500, 67500, 24500, 1999, 50000, 15900, 31900, 3200, 6950, 3200, 6950, 6900, 5000, 26500, 3335])\n",
      "('Philadelphia', [1998, 7500, 1500, 3595, 5500, 6500, 4500, 2500, 2000, 2500, 3950, 17800, 15100, 17200, 25100, 4000, 18994, 6800, 39000, 17500, 1995, 8000, 500, 57995, 25500, 4500, 725, 895, 6795, 8999, 250, 2500, 350, 6000, 65, 2150, 30, 60, 95, 9975, 7000, 60000, 4022, 400, 35, 3200, 4550, 8000, 2200, 80000, 37500, 34500, 4000, 4000, 20500, 3000, 8999, 148400, 250, 8999, 7500, 42000, 7500, 19000, 8700, 23500, 2350, 7000, 4975, 85000, 17585, 20000, 700, 14500, 1000, 21000, 8999, 34499, 104900, 22000, 3500, 13200, 28450, 4200, 45, 40, 11700, 16900, 25500, 6000, 3500, 3500, 35, 25, 19999, 20, 16700, 17000, 3376, 42500, 800, 44999, 17800, 125000, 3319, 24995, 11295, 19000, 19500, 28350, 16000, 60, 36500, 30, 4000, 5000, 49900, 240, 17198, 45])\n",
      "('Newark', [40000, 1500, 2700, 2200, 300, 28999, 3000, 5900, 4000, 4000, 8500, 13000, 7500, 15000, 3428, 3000, 1500, 1300, 9900, 11000, 16000, 10500, 50, 2299, 400, 20, 2022, 4550, 5800, 11500, 16500, 52000, 12000, 65000, 166000, 29300, 4200, 8000, 24900, 5000, 23500, 400, 93500, 11200, 5500, 23875, 124399, 600, 2000, 5000, 5650, 7500, 5000, 26950, 15000, 9000, 6500, 5000, 3000, 4500, 4000, 25100, 3500, 3900, 7000, 9850, 42500, 43999, 159998, 25, 35, 100, 6000, 38900, 15000, 29650, 15000, 15000, 3500, 29650, 26650, 26700, 55, 1400, 9000, 15000, 8495, 35000, 18000, 35000, 10990, 5000, 5450, 27450, 5450, 5450, 7500, 6200, 5000, 26550, 16000, 28700, 26400, 25050, 16000, 12000, 28000, 10960, 18000, 4800, 4000, 5900, 47000, 6500, 2499, 9999, 26500, 3000, 300, 5000])\n",
      "('Louisville', [2053, 2000, 2500, 8250, 9950, 16000, 22500, 10850, 2000, 77000, 6200, 49900, 18000, 86000, 45, 78000, 79900, 450, 26000, 14500, 12500, 4000, 4000, 14000, 17000, 15900, 17900, 14995, 16900, 14500, 26900, 9900, 1995, 86000, 9000, 22000, 12000, 6200, 12995, 150, 300, 100, 299, 599, 35, 6000, 31000, 25000, 3800, 3000, 7500, 20000, 2000, 7300, 32900, 35500, 15900, 8500, 33500, 11000, 10900, 3500, 5500, 250, 16900, 2500, 66900, 117000, 600, 3800, 25, 10, 16995, 15500, 28900, 27100, 20, 15000, 55900, 13000, 12450, 18500, 15000, 8000, 10000, 11700, 3200, 3200, 35000, 25250, 2800, 4800, 22500, 11000, 48500, 55900, 23000, 12000, 6500, 325, 13999, 145, 78000, 20988, 59000, 12500, 6000, 68500, 19500, 4100, 56900, 61500, 87500, 24500, 5000, 13900, 36000, 102000, 18500, 14900])\n",
      "('Fargo', [23500, 36500, 5500, 9485, 9485, 27500, 2500, 43000, 2000, 17500, 154900, 5000, 200, 94500, 7599, 2000, 21000, 23200, 3000, 17000, 1850, 36000, 22999, 21000, 15000, 59888, 23000, 17995, 17500, 17495, 3900, 2000, 5000, 9500, 10450, 7500, 4350, 31500, 22800, 300, 4900, 12995, 1600, 17500, 7200, 450, 4000, 3500, 31000, 35500, 27500, 2500, 1600, 145, 4500, 2000, 8200, 8399, 15000, 9500, 3500, 16, 44900, 12000, 11500, 8250, 7000, 4800, 200, 30000, 42000, 15000, 13500, 17999, 41877, 38816, 36924, 39350, 27988, 69649, 69649, 350, 13500, 12500, 15000, 18000, 20, 26500, 6800, 15600, 5699, 60000, 5699, 37000, 6499, 22995, 2000, 7750, 3000, 5500, 4699, 200, 25000, 3399, 10000, 5999, 5872, 17500, 9995, 1700, 40, 1950, 1500, 18000, 39500, 500, 4000, 29900, 2500, 300])\n",
      "('VirginiaBeach', [3000, 79900, 19950, 14000, 70, 1000, 400, 12900, 69000, 2500, 2600, 4300, 15000, 1750, 7950, 11500, 12900, 40, 10500, 3800, 2500, 22000, 17500, 1500, 200, 20, 3400, 9850, 2695, 5699, 9799, 8999, 7995, 8995, 5995, 5200, 2250, 3800, 4299, 7000, 5900, 18000, 92500, 32500, 12500, 10500, 275, 52500, 19300, 24600, 3950, 21000, 600, 800, 14990, 9500, 450, 10500, 61895, 8500, 17950, 200, 5000, 20, 325, 1000, 92500, 100, 25000, 250, 100, 475, 14900, 16500, 6500, 29500, 24700, 17000, 11400, 4500, 900, 2850, 19000, 3200, 500, 22000, 48900, 1000, 15000, 200, 14995, 29900, 8400, 3200, 4000, 20000, 1200, 8500, 3500, 7500, 5500, 2000, 200, 32000, 800, 27500, 275, 12000, 25000, 22000, 2500, 13500, 13500, 7000, 3995, 270, 32500, 150, 17500, 28500])\n",
      "('Albuquerque', [800, 19600, 1350, 2250, 200, 1800, 8500, 800, 8900, 8500, 83000, 10999, 18000, 2500, 12000, 28900, 5000, 9300, 14000, 25300, 40000, 8500, 147900, 9500, 9500, 625, 26500, 18800, 209900, 23750, 40, 16500, 24000, 700, 200, 15500, 44995, 39900, 13900, 28490, 15995, 350, 89000, 300, 3500, 18000, 38000, 75500, 4200, 74900, 14000, 55500, 5400, 285, 2450, 5500, 10000, 20000, 120000, 13000, 3000, 7000, 800, 42500, 8900, 300, 12000, 1500, 2950, 10900, 240, 7500, 13000, 11800, 10300, 16000, 13900, 1550, 100, 89000, 2950, 14500, 2700, 19700, 16900, 25000, 7900, 5500, 5900, 10299, 6000, 13500, 58000, 9500, 48900, 11000, 33900, 38900, 190, 2500, 25, 11547, 11547, 3428, 16500, 800, 3350, 6000, 30, 6900, 329, 50, 125, 49000, 125, 25000, 2500, 14500, 15500, 25000])\n",
      "('Billings', [8000, 12000, 14000, 5500, 95, 14500, 34999, 12500, 56000, 24500, 20900, 16900, 14000, 215, 13900, 185, 8995, 13800, 26900, 13995, 13900, 12000, 33000, 2000, 5000, 1100, 9500, 125000, 51499, 19500, 19500, 29000, 29000, 1000, 75000, 3000, 19995, 18000, 3970, 4250, 69995, 26000, 1000, 125, 27500, 2200, 9750, 5500, 1700, 5000, 9988, 17333, 18888, 64999, 8600, 5250, 500, 36000, 15000, 4350, 16995, 39500, 18000, 5500, 6900, 40000, 9900, 18900, 2300, 33995, 34995, 35, 800, 11000, 14400, 13500, 19000, 250, 19000, 25995, 73919, 22990, 25000, 12990, 27985, 13995, 15995, 11995, 130, 16000, 4400, 11995, 10995, 10995, 1800, 32900, 3950, 5250, 15900, 19300, 13500, 15000, 13900, 16450, 10900, 5000, 7300, 16900, 5900, 4500, 8500, 3000, 3000, 52000, 6000, 15000, 46000, 20000, 3000, 13995])\n",
      "('LasVegas', [2500, 10500, 40, 15, 2000, 8600, 31900, 7500, 5200, 57500, 63000, 4000, 1800, 9500, 1575, 29900, 24500, 4000, 26500, 15000, 300000, 1200, 10000, 9500, 3900, 5700, 5500, 19500, 147900, 12900, 7000, 4580, 49900, 300, 40, 22500, 5250, 11000, 9950, 85, 45, 50000, 375, 70, 64995, 66995, 1050, 4000, 60, 20, 300, 20, 5500, 9995, 9000, 74900, 650, 39884, 24900, 2000, 16650, 10650, 30000, 30000, 17500, 3800, 12000, 950, 325, 16500, 13500, 23500, 7200, 13000, 7000, 1000, 10, 14400, 27900, 19800, 100, 34999, 34, 49900, 1600, 16000, 15000, 11500, 20, 2900, 99, 25000, 1899, 10000, 36995, 16995, 3200, 95000, 4200, 58000, 127000, 14000, 34900, 19500, 60000, 7500, 18000, 6900, 14999, 25000, 210, 15400, 27000, 4000, 1999, 23800, 85, 75, 18500, 15500])\n",
      "('Jacksonville', [2500, 59000, 2499, 34000, 169000, 300, 92500, 16500, 10000, 125, 30, 28900, 60, 11750, 1100, 54000, 7700, 9500, 17900, 10999, 7600, 11999, 7600, 37000, 20700, 38500, 22000, 2800, 8100, 8100, 75, 64900, 800, 6800, 14000, 6000, 10900, 239454, 80, 16683, 16995, 16995, 149, 17900, 19, 197995, 5500, 7500, 27900, 200, 26000, 12900, 850, 7800, 17900, 110, 90, 100, 150, 4500, 7200, 16995, 29500, 48900, 57977, 23977, 2250, 66288, 13977, 2250, 8500, 19995, 65, 10900, 8000, 23589, 6200, 3700, 43000, 20000, 38000, 40250, 20000, 39777, 19995, 8889, 74000, 50, 44000, 4500, 2770, 250, 14000, 375, 28450, 12500, 7500, 52000, 15485, 5500, 29150, 12400, 8000, 10000, 8600, 900, 27000, 25000, 9850, 33500, 5000, 23500, 2000, 15000, 14900, 18250, 2500, 19500, 59900, 19900])\n",
      "('LosAngeles', [145, 145, 2500, 12500, 9000, 2000, 55, 2700, 14499, 25000, 2000, 10500, 2055, 45, 45, 5500, 6500, 25500, 9975, 15, 1600, 19000, 2000, 100, 4900, 85, 60000, 5500, 4700, 7800, 8550, 4000, 11000, 4800, 2500, 8900, 8500, 2300, 9995, 42500, 189, 189, 29950, 18995, 14900, 5000, 1000, 69000, 38500, 13000, 78000, 5000, 3900, 300000, 2500, 9500, 175, 28900, 10000, 2200, 59777, 147900, 22000, 4000, 15995, 11000, 1000, 6500, 104900, 95000, 15900, 4250, 52000, 15000, 47900, 7000, 21995, 4500, 7500, 27000, 23000, 4950, 21000, 21000, 4850, 3650, 5200, 6200, 4900, 3500, 4250, 100, 2900, 100, 999, 375, 21900, 79, 35200, 2800, 3500, 95000, 10, 100, 1000, 1500, 100, 15750, 139, 18500, 8000, 20, 270, 8550, 14000, 11000, 11000, 9000, 25000, 20000])\n",
      "('Omaha', [8000, 24500, 17000, 45000, 27500, 10000, 2000, 300, 10000, 4000, 27000, 21995, 75, 700, 10000, 1750, 18000, 3295, 19000, 200, 14000, 17000, 1850, 7500, 14000, 650, 4300, 6000, 8400, 24900, 49000, 63999, 16999, 28999, 68000, 5500, 19000, 125, 6800, 26000, 500, 10600, 25500, 6000, 24900, 6000, 16900, 8500, 48808, 950, 4000, 125, 1100, 19500, 4500, 150, 1000, 150, 40, 13500, 50, 54995, 450, 400, 33500, 40000, 29000, 25250, 28500, 57999, 33599, 35995, 49500, 24000, 23000, 5500, 29500, 14500, 4000, 130, 21500, 22500, 13500, 100, 22000, 52500, 9500, 2850, 1900, 42500, 10000, 27500, 26500, 12500, 27500, 275, 25, 12000, 200, 2000, 3900, 23500, 28000, 28900, 4850, 34999, 32999, 30999, 46900, 13000, 21000, 15000, 26600, 33800, 6500, 6200, 45000, 300, 24000, 1000])\n",
      "('NewOrleans', [2499, 2500, 13500, 2700, 2500, 19000, 10000, 18500, 38500, 69990, 4400, 3000, 10000, 16500, 109000, 21500, 67500, 1700, 9500, 18900, 9500, 8500, 9500, 12000, 9500, 650, 700, 425, 2100, 52900, 66288, 49999, 1000, 66288, 2695, 6500, 11995, 18500, 62900, 11900, 20, 75, 17975, 69990, 17995, 14995, 14000, 15995, 21995, 19995, 36700, 19500, 425, 8000, 9500, 8500, 13500, 4400, 12800, 9000, 8500, 15900, 16995, 16995, 25695, 24995, 13995, 18999, 28188, 5000, 6500, 4000, 7500, 6500, 4500, 69990, 28500, 25900, 47995, 28000, 9000, 14995, 28300, 25, 150, 12000, 100, 6900, 23000, 6000, 17900, 200, 26350, 21500, 2500, 29900, 3266, 29954, 32185, 12500, 12500, 29243, 3000, 56289, 92500, 28182, 16995, 29850, 29500, 19500, 4700, 14300, 14, 9000, 15995, 62995, 19995, 28988, 19995, 35400])\n",
      "('Houston', [9950, 2000, 2036, 1509, 13999, 6400, 600, 6200, 7500, 15000, 22500, 27995, 850, 6995, 1000, 17000, 2500, 150, 450, 20000, 25, 30000, 3500, 25000, 13900, 12900, 450, 9995, 55000, 15, 70000, 70000, 34990, 6000, 10, 450, 149, 47795, 55871, 65, 4500, 6000, 400, 400, 400, 54871, 6000, 1500, 35500, 16500, 7495, 8500, 7800, 6500, 9450, 35000, 12773, 12000, 95000, 26000, 18495, 27995, 16495, 24999, 97872, 45995, 14995, 11995, 54995, 64995, 38995, 17995, 11995, 74995, 149995, 79999, 119999, 139995, 67995, 67995, 16999, 39995, 13995, 24999, 24999, 34995, 10800, 1450, 9900, 21900, 200, 14000, 50000, 14000, 250, 2000, 3600, 7500, 7995, 38500, 25500, 38500, 8000, 11000, 14800, 12500, 8500, 59990, 15000, 12000, 4500, 2500, 18000, 93000, 32000, 1200, 225, 1580, 75944, 27500])\n",
      "('Bridgeport', [2000, 7900, 2000, 2500, 17250, 35550, 2000, 10000, 9995, 6500, 11500, 18500, 49999, 40, 150, 40, 13000, 65000, 1650, 60, 37500, 27000, 6400, 24950, 24950, 30, 15500, 7200, 16500, 20, 16900, 16900, 13800, 100, 12500, 3000, 5300, 7500, 15900, 125, 1500, 5000, 27800, 2000, 1600, 1400, 1800, 14500, 8000, 4700, 150, 39999, 2500, 3000, 9000, 100, 25000, 5000, 5995, 25000, 1000, 32500, 29300, 26700, 32500, 200, 28550, 2250, 6299, 28750, 700, 120, 3500, 500, 149000, 7225, 3800, 500, 140000, 7900, 5000, 350, 7800, 38500, 8000, 16500, 100, 1000000, 4500, 100, 2850, 31000, 25000, 15, 2200, 6500, 69000, 16000, 2000, 3500, 4550, 400, 1000, 92500, 92500, 10, 15000, 24750, 10000, 8000, 8000, 20000, 500, 1500, 72000, 13500, 6300, 16000, 230, 18500])\n",
      "('Anchorage', [6000, 19000, 250, 30000, 15000, 3300, 750, 16500, 79995, 5500, 47000, 900, 25900, 1000, 17500, 45000, 6000, 17000, 4500, 8650, 2064, 100, 26500, 60, 18500, 18500, 6500, 8000, 7000, 3000, 50998, 22999, 27999, 41672, 19950, 44200, 20000, 18500, 34500, 27500, 3500, 13000, 8000, 400, 3500, 25500, 12900, 17000, 300, 81000, 40000, 28000, 27500, 26000, 25000, 100, 150, 100, 1500, 45000, 46500, 17000, 13000, 3500, 29500, 58000, 3000, 25000, 34000, 3000, 22000, 875, 13000, 35, 29999, 48000, 55900, 25900, 25000, 7995, 12600, 49500, 35000, 9000, 12000, 1200, 9000, 32995, 8900, 29000, 22000, 18500, 11400, 11500, 39500, 7500, 22000, 100, 4000, 23000, 59000, 3200, 100, 19500, 47595, 24999, 94000, 22990, 350, 75000, 18500, 31900, 57500, 25500, 12000, 67500, 39900, 150, 6800, 210])\n",
      "('Wichita', [2000, 38500, 15, 26, 15000, 200, 42000, 9500, 6495, 3950, 12995, 450, 450, 9500, 9000, 40000, 3000, 12000, 800, 15000, 13000, 19495, 12500, 5500, 1000, 21500, 1100, 3800, 9500, 9500, 40000, 8500, 180, 5500, 33900, 10000, 8000, 7800, 450, 1600, 150, 19495, 43000, 15500, 47500, 43000, 44900, 8000, 18900, 89500, 15200, 2500, 4500, 89900, 60, 260, 13700, 36500, 17000, 80, 8200, 13950, 227500, 20, 600, 46900, 14500, 160, 180, 25500, 25650, 10, 8000, 18500, 8500, 8000, 27500, 7500, 25500, 20000, 3500, 35000, 9500, 2000, 16500, 13000, 17500, 4800, 14500, 1450, 6200, 1200, 15, 11500, 1000, 3000, 59900, 925, 20, 200, 200, 16000, 200, 60, 3500, 46000, 150, 8500, 7500, 50, 12995, 30000, 20, 10000, 47500, 19995, 40900, 39900, 39900, 39900])\n",
      "('Detroit', [2055, 3000, 4300, 2000, 9700, 24500, 6950, 34000, 1200, 3000, 4800, 10500, 2500, 18500, 150, 35, 26900, 3200, 1400, 50, 37800, 78500, 78500, 500, 5500, 2500, 3995, 4100, 49999, 1500, 8000, 499999, 375, 23000, 4000, 189, 2400, 11900, 4000, 17500, 26900, 34900, 18500, 8500, 16800, 27000, 12500, 9000, 14996, 10899, 16991, 3500, 20000, 190, 15800, 400, 20500, 17700, 9500, 5500, 15900, 135, 65000, 10, 15960, 12900, 22500, 45000, 28000, 59000, 200, 5495, 34990, 14599, 170, 16900, 10000, 15000, 40500, 8000, 8000, 52900, 52900, 5500, 5500, 2400, 35, 7500, 4800, 300, 8900, 1500, 13500, 150, 1700, 100000, 9400, 31500, 15000, 18, 575, 12935, 140, 5800, 4500, 21500, 280, 10000, 8200, 15000, 3850, 600, 3250, 78500, 4000, 60, 50, 27500, 22000, 50])\n",
      "('Charleston', [2500, 3500, 3450, 92500, 35, 50, 2500, 500, 1600, 3495, 64900, 19500, 15500, 31500, 31900, 38500, 12500, 7500, 90, 6500, 17500, 4800, 15000, 22000, 150, 26050, 154900, 57900, 11574, 66288, 12980, 3500, 42900, 48900, 16900, 22900, 84900, 21900, 6900, 59900, 7000, 26050, 26700, 12000, 3900, 32000, 12550, 14000, 43500, 13734, 21900, 64900, 28900, 24900, 89900, 65000, 7000, 129900, 45650, 17900, 17600, 12000, 99900, 87900, 17200, 900, 15500, 21900, 18900, 57900, 31500, 16900, 4250, 26000, 27700, 1500, 500, 1500, 18000, 8000, 19000, 2650, 8000, 17500, 25450, 25650, 12500, 2500, 11000, 3500, 28500, 18400, 13500, 35900, 7500, 29150, 26300, 15500, 52500, 12, 2200, 8900, 79682, 25000, 3695, 13000, 9000, 35400, 7250, 26850, 25200, 45000, 7500, 16000, 7900, 9900, 11900, 9300, 8500, 11500])\n",
      "('Baltimore', [2000, 44000, 20000, 22000, 3950, 50000, 42050, 125, 6000, 41000, 7500, 27000, 49995, 16900, 16000, 975, 975, 12000, 179900, 125000, 65, 10000, 4500, 4500, 975, 26000, 3650, 4500, 18000, 45, 17, 2000, 25000, 30, 87500, 10000, 15000, 800, 13900, 13000, 1200, 9000, 22000, 95, 15900, 75000, 120, 3500, 20000, 27300, 2500, 2500, 500, 29000, 2000, 95000, 11000, 90, 20000, 1750, 25000, 4500, 21900, 200, 3500, 26300, 3400, 1000, 4300, 1000, 3500, 7000, 8000, 16300, 19000, 6500, 500, 3100, 25, 16500, 5495, 98000, 2400, 17300, 200, 250, 450, 10500, 7900, 18000, 7500, 45, 3000, 14300, 1000, 21000, 300, 26000, 2011, 16000, 250, 28, 1500, 2300, 3000, 19500, 11000, 45, 41000, 8000, 4800, 950, 10999, 25300, 11650, 26000, 13500, 3000, 9500, 200])\n",
      "('SiouxFalls', [145, 45000, 45000, 2500, 17800, 9999, 10000, 1600, 18500, 1250, 8900, 3000, 500, 200, 17000, 12995, 6800, 4500, 11500, 3000, 8600, 16300, 42500, 7000, 16000, 29500, 19000, 17900, 76500, 21965, 15900, 33500, 19900, 12995, 4500, 18000, 24000, 11000, 1500, 19000, 13000, 1500, 7200, 22900, 4950, 199, 9500, 1500, 800, 17900, 150, 8500, 5000, 29900, 49000, 49000, 33800, 5500, 26500, 2325, 100, 49500, 1499, 35000, 10600, 6200, 11500, 13000, 6000, 15000, 23000, 3500, 9995, 25000, 29900, 6900, 17000, 18500, 8500, 6200, 199, 8750, 8500, 14900, 18900, 4500, 11750, 3000, 65, 23900, 19900, 12900, 24900, 50900, 6500, 5000, 1200, 1600, 9900, 12500, 275, 37500, 60000, 200, 28000, 16500, 120, 6000, 3000, 12000, 21500, 18900, 15000, 21000, 19999, 28900, 18500, 135000, 29000, 16921])\n",
      "('Charlotte', [2000, 12200, 12200, 9300, 37500, 12500, 14985, 21250, 49900, 4700, 2500, 53000, 9500, 92500, 4195, 30500, 19500, 4495, 4995, 17500, 5500, 25000, 11000, 14000, 8027, 2500, 25900, 3800, 17800, 3950, 48200, 2200, 300, 4900, 3950, 3950, 3500, 3500, 4700, 66000, 11300, 2950, 6300, 68000, 16000, 59951, 700, 5400, 39500, 400, 1500, 9000, 18999, 4500, 62000, 12500, 7990, 40000, 24500, 4950, 11000, 6200, 3900, 9000, 129000, 16500, 600, 2500, 113000, 5500, 3100, 100, 39500, 10900, 3000, 25000, 6995, 30000, 480, 625, 480, 13500, 3499, 18000, 15000, 22000, 8900, 23500, 16000, 5795, 4495, 19000, 325, 11500, 13000, 6700, 4500, 34600, 29000, 29000, 27000, 2750, 54900, 2600, 24900, 65000, 7500, 5200, 23900, 3000, 8900, 85000, 21000, 900, 10500, 3500, 89900, 19995, 9500, 50500])\n",
      "('KansasCity', [2000, 12995, 69950, 5500, 10000, 9000, 600, 5850, 3800, 400, 27000, 7500, 3950, 7000, 75000, 2500, 42, 450, 11900, 45000, 5500, 21500, 14500, 79900, 3500, 24900, 600, 13900, 46000, 225, 1000, 129500, 74900, 75, 7500, 9999, 4995, 24995, 9800, 79000, 18500, 500, 150, 13500, 10000, 6700, 15000, 350, 33500, 11500, 21995, 85, 14000, 11500, 1500, 10000, 325, 500, 15000, 24900, 15900, 11000, 26500, 150, 18000, 60, 65000, 21995, 55, 9500, 20500, 9000, 32500, 40000, 8500, 350, 39900, 200, 7800, 7000, 24500, 13000, 24000, 28700, 40, 2995, 25000, 32988, 72000, 50, 6700, 950, 6995, 5000, 3500, 33500, 50, 50, 15, 7900, 11800, 2200, 22900, 5900, 40, 52000, 14500, 150, 20, 19800, 9500, 6000, 7000, 14900, 16000, 14500, 29000, 27250, 9700, 5900])\n",
      "('Minneapolis', [23500, 2000, 3000, 85, 17500, 28000, 19000, 75, 7600, 8000, 21900, 3200, 3900, 200, 25000, 56500, 50, 2000, 7250, 600, 9485, 17000, 4200, 18900, 75, 47500, 4995, 10500, 2500, 45000, 1500, 42900, 2500, 20, 44000, 13500, 800, 15500, 800, 19500, 17500, 3500, 18395, 4450, 9350, 8500, 100, 52000, 8999, 6500, 2000, 400, 16500, 5990, 50, 3499, 1500, 175000, 10500, 10500, 10500, 4500, 24000, 7599, 12000, 19000, 8999, 3800, 5300, 27500, 27500, 7995, 27500, 34995, 11900, 5000, 7250, 15, 2400, 50000, 2000, 135, 285, 23200, 150, 7500, 300, 46000, 1700, 29850, 6000, 11475, 5595, 9500, 10200, 8950, 6800, 75, 25, 18500, 15000, 6900, 6899, 6900, 75, 31900, 3900, 11000, 9999, 11900, 10477, 8977, 9277, 11977, 33995, 35, 35, 27995, 26252, 27500])\n",
      "('Milwaukee', [2499, 2000, 1000, 3000, 9900, 3150, 390, 280, 3500, 5000, 8500, 275, 26000, 2500, 19900, 19750, 75376, 32900, 10980, 8000, 10000, 29995, 12500, 4900, 3595, 38900, 8900, 14995, 7500, 10000, 7500, 35000, 900, 35900, 23700, 15000, 75, 125, 59500, 10900, 9900, 8900, 3700, 4500, 75, 2500, 1295, 7495, 6000, 14000, 500, 1800, 50000, 2200, 5000, 1500, 100, 75, 4500, 61000, 3500, 3700, 450, 95, 10995, 66995, 4500, 24000, 1800, 10000, 22000, 14900, 44000, 50, 650, 19990, 8490, 15000, 475, 9500, 29900, 6000, 32995, 40000, 6700, 12000, 120, 72000, 2400, 2500, 900, 39000, 195, 450, 29500, 93500, 125, 300, 5500, 39999, 10000, 50, 7500, 6800, 4350, 8495, 8995, 35900, 20988, 60000, 2350, 3350, 2550, 25, 26252, 27500, 5495, 15900, 14000, 5500])\n",
      "('Portland', [6000, 2500, 13500, 19950, 6500, 5995, 7000, 2000, 8250, 4950, 11999, 3400, 12900, 15000, 42000, 42000, 61000, 11000, 13950, 9700, 14950, 105000, 33500, 6000, 36999, 45, 25500, 35000, 1800, 39990, 400, 59500, 26800, 10900, 26750, 190, 380, 41500, 1250, 250, 11999, 49, 250, 120, 375, 14500, 6400, 14900, 44900, 10000, 18500, 99950, 30, 3850, 550, 30, 295, 2850, 5000, 45999, 2700, 4500, 3000, 9995, 17500, 2250, 60, 69700, 20000, 30, 24900, 29900, 5900, 150, 550, 650, 20000, 23000, 45000, 1000, 8000, 1700, 65000, 15499, 21750, 2800, 21750, 18000, 12500, 64999, 7000, 13900, 9500, 6850, 42000, 225, 1850, 6500, 150, 50, 21000, 7200, 89000, 28000, 2200, 27500, 32000, 42995, 50, 80, 4000, 7000, 147900, 5300, 19950, 60, 350, 15000, 13500, 4900])\n",
      "('Seattle', [11990, 29500, 200, 37000, 19500, 16500, 1000, 10, 250, 200, 3200, 5500, 75, 4500, 4400, 14900, 22700, 21500, 21100, 4500, 6500, 11500, 22500, 2500, 2500, 195000, 3500, 24000, 45, 200, 5500, 87500, 300, 39900, 2300, 3000, 10600, 250, 3850, 10500, 40, 7500, 14000, 12995, 4400, 44900, 375, 3995, 120, 1750, 99950, 10, 58000, 23500, 800, 8500, 700, 29000, 29000, 8800, 8800, 25, 5000, 17500, 7995, 13000, 13000, 13000, 175, 14000, 1700, 7995, 600, 86985, 109995, 67948, 56995, 17912, 39995, 98995, 98995, 21995, 22800, 4300, 9700, 275, 8699, 9900, 4000, 16525, 6000, 16800, 69000, 9999, 28000, 65000, 39900, 34950, 28000, 18400, 28000, 5500, 29500, 4900, 300000, 6850, 27995, 7000, 28900, 1500, 12995, 22995, 450, 975, 22995, 39450, 200, 147900, 500, 1500])\n"
     ]
    }
   ],
   "source": [
    "for k in rv_price:\n",
    "    print(k,rv_price[k])"
   ]
  },
  {
   "cell_type": "code",
   "execution_count": 45,
   "metadata": {
    "collapsed": false
   },
   "outputs": [
    {
     "name": "stdout",
     "output_type": "stream",
     "text": [
      "('Chicago', 16856.5, 8350.0)\n",
      "('NewYork', 18107.833333333332, 7500.0)\n",
      "('Philadelphia', 15611.666666666666, 6900.0)\n",
      "('Newark', 16754.141666666666, 7750.0)\n",
      "('Louisville', 20904.358333333334, 12997.5)\n",
      "('Fargo', 16793.908333333333, 9500.0)\n",
      "('VirginiaBeach', 12773.924999999999, 7250.0)\n",
      "('Albuquerque', 19050.116666666665, 10149.5)\n",
      "('Billings', 17217.25, 13850.0)\n",
      "('LasVegas', 19754.066666666666, 9972.5)\n",
      "('Jacksonville', 21670.091666666667, 11874.5)\n",
      "('LosAngeles', 17090.133333333335, 6350.0)\n",
      "('Omaha', 17089.375, 13500.0)\n",
      "('NewOrleans', 19760.016666666666, 14150.0)\n",
      "('Houston', 24137.025000000001, 13400.0)\n",
      "('Bridgeport', 23643.349999999999, 7212.5)\n",
      "('Anchorage', 21111.083333333332, 18000.0)\n",
      "('Wichita', 16625.008333333335, 9250.0)\n",
      "('Detroit', 18613.541666666668, 8100.0)\n",
      "('Charleston', 24399.875, 16450.0)\n",
      "('Baltimore', 15508.375, 7250.0)\n",
      "('SiouxFalls', 16248.716666666667, 12250.0)\n",
      "('Charlotte', 19020.633333333335, 10000.0)\n",
      "('KansasCity', 16276.116666666667, 9600.0)\n",
      "('Minneapolis', 13606.283333333333, 8250.0)\n",
      "('Milwaukee', 14091.658333333333, 7497.5)\n",
      "('Portland', 17630.316666666666, 8875.0)\n",
      "('Seattle', 23198.025000000001, 9949.5)\n"
     ]
    }
   ],
   "source": [
    "import numpy as np\n",
    "\n",
    "for k in rv_price:\n",
    "    print(k,np.mean(rv_price[k]),np.median(rv_price[k]))\n"
   ]
  },
  {
   "cell_type": "markdown",
   "metadata": {},
   "source": [
    "\n",
    "## 4. Run your scraping process, and save your results to a CSV file."
   ]
  },
  {
   "cell_type": "code",
   "execution_count": 26,
   "metadata": {
    "collapsed": false,
    "scrolled": true
   },
   "outputs": [],
   "source": [
    "import csv\n",
    "path='/Users/joaquincunanan/desktop/dsi-sf-7-materials/datasets/proj_4/rv.csv'\n",
    "fieldnames=['City','mean_price','median_price']\n",
    "with open(path, 'w') as csvfile:\n",
    "#     ofile  = open(path, \"wb\")\n",
    "    writer = csv.DictWriter(csvfile, fieldnames=fieldnames)\n",
    "    writer.writeheader()\n",
    "    for k in rv_price:\n",
    "        writer.writerow({'City':k,'mean_price':np.mean(rv_price[k]),'median_price':np.median(rv_price[k])})\n",
    "\n",
    "csvfile.close()"
   ]
  },
  {
   "cell_type": "markdown",
   "metadata": {},
   "source": [
    "\n",
    "## 5. Do an analysis of the RV market.\n",
    "\n",
    "Go head we'll wait.  Anything notable about the data?"
   ]
  },
  {
   "cell_type": "code",
   "execution_count": 46,
   "metadata": {
    "collapsed": false
   },
   "outputs": [
    {
     "name": "stdout",
     "output_type": "stream",
     "text": [
      "{'Chicago': 16856.5, 'NewYork': 18107.833333333332, 'Philadelphia': 15611.666666666666, 'Newark': 16754.141666666666, 'Louisville': 20904.358333333334, 'Fargo': 16793.908333333333, 'VirginiaBeach': 12773.924999999999, 'Albuquerque': 19050.116666666665, 'Billings': 17217.25, 'LasVegas': 19754.066666666666, 'Jacksonville': 21670.091666666667, 'LosAngeles': 17090.133333333335, 'Omaha': 17089.375, 'NewOrleans': 19760.016666666666, 'Charlotte': 19020.633333333335, 'Bridgeport': 23643.349999999999, 'Anchorage': 21111.083333333332, 'Wichita': 16625.008333333335, 'Detroit': 18613.541666666668, 'Charleston': 24399.875, 'Baltimore': 15508.375, 'SiouxFalls': 16248.716666666667, 'Houston': 24137.025000000001, 'KansasCity': 16276.116666666667, 'Minneapolis': 13606.283333333333, 'Milwaukee': 14091.658333333333, 'Portland': 17630.316666666666, 'Seattle': 23198.025000000001}\n"
     ]
    }
   ],
   "source": [
    "%matplotlib inline\n",
    "\n",
    "import matplotlib\n",
    "import numpy as np\n",
    "import matplotlib.pyplot as plt\n",
    "\n",
    "D={}\n",
    "for k in rv_price:\n",
    "    D[k]=np.mean(rv_price[k])\n",
    "    \n",
    "print(D)\n",
    "#there is definitely some variance in the pricing among the different cities\n",
    "\n",
    "    "
   ]
  },
  {
   "cell_type": "code",
   "execution_count": 61,
   "metadata": {
    "collapsed": false
   },
   "outputs": [
    {
     "data": {
      "image/png": "[encoded data removed]",
      "text/plain": [
       "<matplotlib.figure.Figure at 0x11792f790>"
      ]
     },
     "metadata": {},
     "output_type": "display_data"
    }
   ],
   "source": [
    "plt.figure(figsize=(15,10))\n",
    "plt.bar(range(len(D)), D.values(), align='center')\n",
    "plt.xticks(range(len(D)), D.keys(),rotation=45)\n",
    "\n",
    "plt.show()"
   ]
  },
  {
   "cell_type": "markdown",
   "metadata": {
    "collapsed": true
   },
   "source": [
    "\n",
    "### 5.1 Does it makes sense to buy RVs in one region and sell them in another?\n",
    "\n",
    "Assuming the cost of shipping or driving from one regional market to another."
   ]
  },
  {
   "cell_type": "code",
   "execution_count": null,
   "metadata": {
    "collapsed": true
   },
   "outputs": [],
   "source": [
    "# Yes, there may be some profit in buying RVs in one region and selling it another. For example, Kansas City RVs seem \n",
    "# to be much cheaper than Houston. However, I am treating all RVs"
   ]
  },
  {
   "cell_type": "markdown",
   "metadata": {},
   "source": [
    "### 5.2 Can you pull out the \"make\" from the markup and include that in your analyis?\n",
    "How reliable is this data and does it make sense?"
   ]
  },
  {
   "cell_type": "code",
   "execution_count": null,
   "metadata": {
    "collapsed": true
   },
   "outputs": [],
   "source": [
    "# Yes, I can pull it. However, there is no consistent convention in naming RVs on CL. So, I can't use the make to do \n",
    "# meaningful pivots, groupbys, or other analysis.'"
   ]
  },
  {
   "cell_type": "markdown",
   "metadata": {},
   "source": [
    "### 5.3 Are there any other variables you could pull out of the markup to help describe your dataset?"
   ]
  },
  {
   "cell_type": "code",
   "execution_count": null,
   "metadata": {
    "collapsed": true
   },
   "outputs": [],
   "source": [
    "#No"
   ]
  },
  {
   "cell_type": "markdown",
   "metadata": {},
   "source": [
    "\n",
    "## 6. Move your project into scrapy (if you haven't used Scrapy yet)\n",
    "\n",
    ">Start a project by using the command `scrapy startproject [projectname]`\n",
    "> - Update your settings.py (review our past example)\n",
    "> - Update your items.py\n",
    "> - Create a spiders file in your `[project_name]/[project_name]/spiders` directory\n",
    "\n",
    "You can update your spider class with the complete list of craigslist \"start urls\" to effectively scrape all of the regions.  Start with one to test.\n",
    "\n",
    "Updating your parse method with the method you chose should require minimal changes.  It will require you to update your parse method to use the response parameter, and an item model (defined in items.py)."
   ]
  },
  {
   "cell_type": "code",
   "execution_count": null,
   "metadata": {
    "collapsed": true
   },
   "outputs": [],
   "source": [
    "# Sadly, I was unable start the spider. \n",
    "#raise KeyError(\"Spider not found: {}\".format(spider_name))\n",
    "# KeyError: 'Spider not found: RVBase'"
   ]
  },
  {
   "cell_type": "markdown",
   "metadata": {},
   "source": [
    "\n",
    "## 7.  Chose another area of Craigslist to scrape.\n",
    "\n",
    "**Choose an area having more than a single page of results, then scrape multiple regions, multiple pages of search results and or details pages.**\n",
    "\n",
    "This is the true exercise of being able to understand how to succesffuly plan, develop, and employ a broader scraping strategy.  Even though this seems like a challenging task, a few tweeks of your current code can make this very managable if you've pieced together all the touch points.  If you are still confused as to some of the milestones within this process, this is an excellent opportunity to round out your understanding, or help you build a list of questions to fill in your gaps.\n",
    "\n",
    "_Use Scrapy!  Provide your code in this project directory when you submit this project._"
   ]
  },
  {
   "cell_type": "markdown",
   "metadata": {
    "collapsed": true
   },
   "source": []
  },
  {
   "cell_type": "code",
   "execution_count": null,
   "metadata": {
    "collapsed": true
   },
   "outputs": [],
   "source": []
  }
 ],
 "metadata": {
  "anaconda-cloud": {},
  "kernelspec": {
   "display_name": "Python [conda env:dsi2]",
   "language": "python",
   "name": "conda-env-dsi2-py"
  },
  "language_info": {
   "codemirror_mode": {
    "name": "ipython",
    "version": 2
   },
   "file_extension": ".py",
   "mimetype": "text/x-python",
   "name": "python",
   "nbconvert_exporter": "python",
   "pygments_lexer": "ipython2",
   "version": "2.7.13"
  }
 },
 "nbformat": 4,
 "nbformat_minor": 1
}
